{
  "cells": [
    {
      "cell_type": "code",
      "execution_count": null,
      "metadata": {
        "collapsed": false
      },
      "outputs": [],
      "source": [
        "%matplotlib inline"
      ]
    },
    {
      "cell_type": "markdown",
      "metadata": {},
      "source": [
        "\nSparse linear regression\n========================\n\nThis example will illustrate how to use different simple modules of TRAMP \n\n"
      ]
    },
    {
      "cell_type": "code",
      "execution_count": null,
      "metadata": {
        "collapsed": false
      },
      "outputs": [],
      "source": [
        "from tramp.variables import SISOVariable as V, SILeafVariable as O\nfrom tramp.priors import GaussBernouilliPrior\nfrom tramp.likelihoods import GaussianLikelihood\nfrom tramp.channels import GaussianChannel, LinearChannel, AnalyticalLinearChannel\nfrom tramp.ensembles import GaussianEnsemble, MarchenkoPasturEnsemble\nfrom tramp.algos import CustomInit\nfrom tramp.algos import ExpectationPropagation, StateEvolution, EarlyStopping\nfrom tramp.algos.metrics import mean_squared_error"
      ]
    },
    {
      "cell_type": "markdown",
      "metadata": {},
      "source": [
        "Define a Sparse teacher\n\n"
      ]
    },
    {
      "cell_type": "code",
      "execution_count": null,
      "metadata": {
        "collapsed": false
      },
      "outputs": [],
      "source": [
        "class SparseTeacher():\n    def __init__(self, N, alpha, rho, Delta):\n        self.N = N\n        self.alpha = alpha\n        self.M = int(self.alpha * self.N)\n        self.rho = rho\n        self.Delta = Delta\n        self.model = self.build_model()\n\n    def build_model(self):\n        self.prior = GaussBernouilliPrior(size=(self.N,), rho=self.rho)\n        ensemble = GaussianEnsemble(self.M, self.N)\n        self.A = ensemble.generate()\n        model = self.prior @ V(id=\"x\") @ LinearChannel(W=self.A) @ V(\n            id='z') @ GaussianChannel(var=self.Delta) @ O(id=\"y\")\n        model = model.to_model()\n        return model"
      ]
    },
    {
      "cell_type": "markdown",
      "metadata": {},
      "source": [
        "Create a sparse teacher\n\n"
      ]
    },
    {
      "cell_type": "code",
      "execution_count": null,
      "metadata": {
        "collapsed": false
      },
      "outputs": [],
      "source": [
        "N = 1000\nalpha = 1\nrho = 0.1\nDelta = 1e-2\n\nteacher = SparseTeacher(\n    N=N, alpha=alpha, rho=rho, Delta=Delta)\nsample = (teacher.model).sample()"
      ]
    },
    {
      "cell_type": "code",
      "execution_count": null,
      "metadata": {
        "collapsed": false
      },
      "outputs": [],
      "source": [
        "prior = GaussBernouilliPrior(size=(N,), rho=rho)\nstudent = prior @ V(id=\"x\") @ LinearChannel(W=teacher.A) @ V(\n    id='z') @ GaussianLikelihood(y=sample['y'], var=Delta)\nstudent = student.to_model_dag()\nstudent = student.to_model()"
      ]
    },
    {
      "cell_type": "code",
      "execution_count": null,
      "metadata": {
        "collapsed": false
      },
      "outputs": [],
      "source": [
        "max_iter = 20\ndamping = 0.1\n\nep = ExpectationPropagation(student)\nep.iterate(\n    max_iter=max_iter, damping=damping, callback=EarlyStopping(tol=1e-8))\ndata_ep = ep.get_variables_data(['x'])\nmse = mean_squared_error(\n    data_ep['x']['r'], sample['x'])\nprint(mse)"
      ]
    }
  ],
  "metadata": {
    "kernelspec": {
      "display_name": "Python 3",
      "language": "python",
      "name": "python3"
    },
    "language_info": {
      "codemirror_mode": {
        "name": "ipython",
        "version": 3
      },
      "file_extension": ".py",
      "mimetype": "text/x-python",
      "name": "python",
      "nbconvert_exporter": "python",
      "pygments_lexer": "ipython3",
      "version": "3.6.10"
    }
  },
  "nbformat": 4,
  "nbformat_minor": 0
}