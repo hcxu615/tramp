{
 "cells": [
  {
   "cell_type": "markdown",
   "metadata": {},
   "source": [
    "# test EP"
   ]
  },
  {
   "cell_type": "code",
   "execution_count": 1,
   "metadata": {},
   "outputs": [],
   "source": [
    "%matplotlib inline\n",
    "import numpy as np\n",
    "import networkx as nx\n",
    "import logging\n",
    "logger = logging.getLogger()\n",
    "logger.setLevel(logging.INFO)"
   ]
  },
  {
   "cell_type": "code",
   "execution_count": 2,
   "metadata": {},
   "outputs": [],
   "source": [
    "from tramp.models import FactorModel\n",
    "from tramp.models import GeneralizedLinearModel, MultiLayerModel\n",
    "from tramp.priors import GaussianPrior, GaussBernouilliPrior, BinaryPrior\n",
    "from tramp.likelihoods import GaussianLikelihood, SngLikelihood, AbsLikelihood\n",
    "from tramp.channels import GaussianChannel, AbsChannel, SngChannel, LinearChannel, RotationChannel\n",
    "from tramp.channels import ConcatChannel, DuplicateChannel"
   ]
  },
  {
   "cell_type": "code",
   "execution_count": 3,
   "metadata": {},
   "outputs": [],
   "source": [
    "from tramp.algos import ExpectationPropagation, StateEvolution, ExplainMessagePassing\n",
    "from tramp.algos import LogProgress, TrackErrors, JoinCallback, EarlyStopping\n",
    "from tramp.algos import ConstantInit, NoisyInit"
   ]
  },
  {
   "cell_type": "markdown",
   "metadata": {},
   "source": [
    "# Debug with gaussian denoiser"
   ]
  },
  {
   "cell_type": "code",
   "execution_count": 4,
   "metadata": {},
   "outputs": [
    {
     "name": "stdout",
     "output_type": "stream",
     "text": [
      "generative_model = MultiLayer(\n",
      "  GaussianPrior(size=10,mean=0,var=1),\n",
      "  GaussianChannel(var=5),\n",
      "  observed=False\n",
      ")\n"
     ]
    },
    {
     "data": {
      "image/png": "[encoded data removed]",
      "text/plain": [
       "<matplotlib.figure.Figure at 0x10d742278>"
      ]
     },
     "metadata": {},
     "output_type": "display_data"
    }
   ],
   "source": [
    "# generative model\n",
    "N, var_prior, var_noise = 10, 1, 5\n",
    "\n",
    "prior = GaussianPrior(size=N, var=var_prior)\n",
    "out_channel = GaussianChannel(var=var_noise)\n",
    "generative_model = MultiLayerModel([prior, out_channel])\n",
    "print(f\"generative_model = {generative_model}\")\n",
    "generative_model.daft()"
   ]
  },
  {
   "cell_type": "code",
   "execution_count": 5,
   "metadata": {},
   "outputs": [
    {
     "name": "stdout",
     "output_type": "stream",
     "text": [
      "BridgeVariable(id=0,size=10) {'type': 'variable', 'tau': 1}\n",
      "FinalVariable(id=1,size=10) {'type': 'variable', 'tau': 6}\n"
     ]
    }
   ],
   "source": [
    "# second moments\n",
    "generative_model.second_moment()\n",
    "for variable in generative_model.variables:\n",
    "    print(variable, generative_model.model_dag.node[variable])"
   ]
  },
  {
   "cell_type": "code",
   "execution_count": 6,
   "metadata": {},
   "outputs": [
    {
     "name": "stdout",
     "output_type": "stream",
     "text": [
      "X=[-0.88885969 -1.15266747  0.37800166  0.43306125 -1.84352328 -1.90609952\n",
      "  1.60466638 -1.69496497  0.72645914  1.54358359]\n",
      "y=[ 4.12437825 -4.67126316 -0.15785221  4.87977968 -2.16562311 -4.63235804\n",
      " -0.72681326 -1.70126201 -0.62065323  4.6660898 ]\n"
     ]
    }
   ],
   "source": [
    "# data\n",
    "sample = generative_model.sample()\n",
    "X, y = sample[0][\"X\"], sample[1][\"X\"]\n",
    "print(f\"X={X}\\ny={y}\")"
   ]
  },
  {
   "cell_type": "code",
   "execution_count": 7,
   "metadata": {},
   "outputs": [
    {
     "name": "stdout",
     "output_type": "stream",
     "text": [
      "model = MultiLayer(\n",
      "  GaussianPrior(size=10,mean=0,var=1),\n",
      "  GaussianLikelihood(size=10,var=5),\n",
      "  observed=True\n",
      ")\n"
     ]
    },
    {
     "data": {
      "image/png": "[encoded data removed]",
      "text/plain": [
       "<matplotlib.figure.Figure at 0x10efce8d0>"
      ]
     },
     "metadata": {},
     "output_type": "display_data"
    }
   ],
   "source": [
    "# inference model\n",
    "likelihood = GaussianLikelihood(y=y, var=var_noise)\n",
    "model = MultiLayerModel([prior, likelihood])\n",
    "print(f\"model = {model}\")\n",
    "model.daft()"
   ]
  },
  {
   "cell_type": "code",
   "execution_count": 8,
   "metadata": {},
   "outputs": [
    {
     "name": "stdout",
     "output_type": "stream",
     "text": [
      "BridgeVariable(id=0,size=10) {'type': 'variable', 'tau': 1}\n"
     ]
    }
   ],
   "source": [
    "# second moments\n",
    "model.second_moment()\n",
    "for variable in model.variables:\n",
    "    print(variable, model.model_dag.node[variable])"
   ]
  },
  {
   "cell_type": "code",
   "execution_count": 9,
   "metadata": {},
   "outputs": [
    {
     "name": "stdout",
     "output_type": "stream",
     "text": [
      "theory v=0.833\n"
     ]
    }
   ],
   "source": [
    "# theory\n",
    "def theory(var_prior, var_noise):\n",
    "    v = 1 / (1/var_prior + 1/var_noise)\n",
    "    return v\n",
    "print(f\"theory v={theory(var_prior, var_noise):.3f}\")"
   ]
  },
  {
   "cell_type": "code",
   "execution_count": 10,
   "metadata": {},
   "outputs": [
    {
     "name": "stderr",
     "output_type": "stream",
     "text": [
      "INFO:root:init message dag with ConstantInit(a=1,b=0)\n"
     ]
    },
    {
     "name": "stdout",
     "output_type": "stream",
     "text": [
      "FORWARD PASS\n",
      "------------\n",
      "GaussianPrior(size=10,mean=0,var=1): incoming message\n",
      "GaussianPrior(size=10,mean=0,var=1)<-BridgeVariable(id=0,size=10)\n",
      "GaussianPrior(size=10,mean=0,var=1): outgoing message\n",
      "GaussianPrior(size=10,mean=0,var=1)->BridgeVariable(id=0,size=10)\n",
      "BridgeVariable(id=0,size=10): incoming message\n",
      "GaussianPrior(size=10,mean=0,var=1)->BridgeVariable(id=0,size=10)\n",
      "BridgeVariable(id=0,size=10)<-GaussianLikelihood(size=10,var=5)\n",
      "BridgeVariable(id=0,size=10): outgoing message\n",
      "BridgeVariable(id=0,size=10)->GaussianLikelihood(size=10,var=5)\n",
      "GaussianLikelihood(size=10,var=5): incoming message\n",
      "BridgeVariable(id=0,size=10)->GaussianLikelihood(size=10,var=5)\n",
      "GaussianLikelihood(size=10,var=5): outgoing message\n",
      "[]\n",
      "BACKWARD PASS\n",
      "-------------\n",
      "GaussianLikelihood(size=10,var=5): incoming message\n",
      "BridgeVariable(id=0,size=10)->GaussianLikelihood(size=10,var=5)\n",
      "GaussianLikelihood(size=10,var=5): outgoing message\n",
      "BridgeVariable(id=0,size=10)<-GaussianLikelihood(size=10,var=5)\n",
      "BridgeVariable(id=0,size=10): incoming message\n",
      "GaussianPrior(size=10,mean=0,var=1)->BridgeVariable(id=0,size=10)\n",
      "BridgeVariable(id=0,size=10)<-GaussianLikelihood(size=10,var=5)\n",
      "BridgeVariable(id=0,size=10): outgoing message\n",
      "GaussianPrior(size=10,mean=0,var=1)<-BridgeVariable(id=0,size=10)\n",
      "GaussianPrior(size=10,mean=0,var=1): incoming message\n",
      "GaussianPrior(size=10,mean=0,var=1)<-BridgeVariable(id=0,size=10)\n",
      "GaussianPrior(size=10,mean=0,var=1): outgoing message\n",
      "[]\n"
     ]
    }
   ],
   "source": [
    "explain = ExplainMessagePassing(model)\n",
    "explain.run()"
   ]
  },
  {
   "cell_type": "code",
   "execution_count": 11,
   "metadata": {},
   "outputs": [
    {
     "name": "stderr",
     "output_type": "stream",
     "text": [
      "INFO:root:init message dag with ConstantInit(a=0.002,b=0)\n",
      "INFO:root:iteration=1/1\n",
      "INFO:root:variable=BridgeVariable(id=0,size=10) v=0.833\n",
      "INFO:root:n_iter=1\n"
     ]
    }
   ],
   "source": [
    "ep = ExpectationPropagation(model)\n",
    "ep.iterate(\n",
    "    max_iter=1, callback=LogProgress(every=1),initializer=ConstantInit(a=0.002,b=0)\n",
    ")"
   ]
  },
  {
   "cell_type": "code",
   "execution_count": 12,
   "metadata": {},
   "outputs": [
    {
     "name": "stderr",
     "output_type": "stream",
     "text": [
      "INFO:root:init message dag with ConstantInit(a=0.002,b=0)\n",
      "INFO:root:iteration=1/1\n",
      "INFO:root:variable=BridgeVariable(id=0,size=10) v=0.833\n",
      "INFO:root:n_iter=1\n"
     ]
    }
   ],
   "source": [
    "se = StateEvolution(model)\n",
    "se.iterate(\n",
    "    max_iter=1, callback=LogProgress(every=1),initializer=ConstantInit(a=0.002,b=0)\n",
    ")"
   ]
  },
  {
   "cell_type": "markdown",
   "metadata": {},
   "source": [
    "# Linear regression"
   ]
  },
  {
   "cell_type": "code",
   "execution_count": 13,
   "metadata": {},
   "outputs": [
    {
     "name": "stdout",
     "output_type": "stream",
     "text": [
      "generative_model = MultiLayer(\n",
      "  GaussianPrior(size=1000,mean=0,var=2),\n",
      "  LinearChannel(Nx=2000,Nz=1000),\n",
      "  GaussianChannel(var=1),\n",
      "  observed=False\n",
      ")\n"
     ]
    },
    {
     "data": {
      "image/png": "[encoded data removed]",
      "text/plain": [
       "<matplotlib.figure.Figure at 0x10d72cd68>"
      ]
     },
     "metadata": {},
     "output_type": "display_data"
    }
   ],
   "source": [
    "# generative model\n",
    "N, M, var_prior, var_noise = 1000, 2000, 2, 1\n",
    "\n",
    "prior = GaussianPrior(size=N, var=var_prior)\n",
    "W = np.random.randn(M, N)/np.sqrt(N)\n",
    "channel = LinearChannel(W)\n",
    "out_channel = GaussianChannel(var=var_noise)\n",
    "generative_model = MultiLayerModel([prior, channel, out_channel])\n",
    "print(f\"generative_model = {generative_model}\")\n",
    "generative_model.daft()"
   ]
  },
  {
   "cell_type": "code",
   "execution_count": 14,
   "metadata": {},
   "outputs": [
    {
     "name": "stdout",
     "output_type": "stream",
     "text": [
      "x=(1000,)\n",
      "z=(2000,)\n",
      "y=(2000,)\n"
     ]
    }
   ],
   "source": [
    "# data\n",
    "sample = generative_model.sample()\n",
    "x, z, y = sample[0][\"X\"], sample[1][\"X\"], sample[2][\"X\"]\n",
    "print(f\"x={x.shape}\\nz={z.shape}\\ny={y.shape}\")"
   ]
  },
  {
   "cell_type": "code",
   "execution_count": 15,
   "metadata": {},
   "outputs": [
    {
     "name": "stdout",
     "output_type": "stream",
     "text": [
      "model = MultiLayer(\n",
      "  GaussianPrior(size=1000,mean=0,var=2),\n",
      "  LinearChannel(Nx=2000,Nz=1000),\n",
      "  GaussianLikelihood(size=2000,var=1),\n",
      "  observed=True\n",
      ")\n"
     ]
    },
    {
     "data": {
      "image/png": "[encoded data removed]",
      "text/plain": [
       "<matplotlib.figure.Figure at 0x10f16d400>"
      ]
     },
     "metadata": {},
     "output_type": "display_data"
    }
   ],
   "source": [
    "# inference model\n",
    "likelihood = GaussianLikelihood(y=y, var=var_noise)\n",
    "model = MultiLayerModel([prior, channel, likelihood])\n",
    "print(f\"model = {model}\")\n",
    "model.daft()"
   ]
  },
  {
   "cell_type": "code",
   "execution_count": 16,
   "metadata": {},
   "outputs": [
    {
     "name": "stdout",
     "output_type": "stream",
     "text": [
      "theory v0=0.562 v1=0.359\n"
     ]
    }
   ],
   "source": [
    "# theory\n",
    "def theory(W, var_prior, var_noise, alpha):\n",
    "    # linear estimation y=Wx\n",
    "    az = 1/var_prior\n",
    "    ay = 1/var_noise\n",
    "    C = W.T @ W\n",
    "    spectrum = np.linalg.eigvalsh(C)\n",
    "    resolvent = 1/(az + ay*spectrum)\n",
    "    vz = resolvent.mean()\n",
    "    # vy = (Ny / Nx) * (1 - az * vz) / ax et Nz=N Ny=M\n",
    "    vy = (1/alpha) * (1 - az * vz) / ay\n",
    "    return vz, vy\n",
    "\n",
    "v0, v1 = theory(W, var_prior, var_noise, alpha=M/N)\n",
    "print(f\"theory v0={v0:.3f} v1={v1:.3f}\")"
   ]
  },
  {
   "cell_type": "code",
   "execution_count": 17,
   "metadata": {},
   "outputs": [
    {
     "name": "stderr",
     "output_type": "stream",
     "text": [
      "INFO:root:init message dag with ConstantInit(a=1,b=0)\n",
      "INFO:root:iteration=1/2\n",
      "INFO:root:variable=BridgeVariable(id=0,size=1000) v=0.562\n",
      "INFO:root:variable=BridgeVariable(id=1,size=2000) v=0.359\n",
      "INFO:root:n_iter=1\n",
      "INFO:root:iteration=2/2\n",
      "INFO:root:variable=BridgeVariable(id=0,size=1000) v=0.562\n",
      "INFO:root:variable=BridgeVariable(id=1,size=2000) v=0.359\n",
      "INFO:root:n_iter=2\n"
     ]
    }
   ],
   "source": [
    "ep = ExpectationPropagation(model)\n",
    "logger.setLevel(logging.INFO)\n",
    "ep.iterate(\n",
    "    max_iter=2, callback=LogProgress(every=1), initializer=ConstantInit()\n",
    ")"
   ]
  },
  {
   "cell_type": "markdown",
   "metadata": {},
   "source": [
    "## testing warm start"
   ]
  },
  {
   "cell_type": "code",
   "execution_count": 18,
   "metadata": {},
   "outputs": [
    {
     "name": "stderr",
     "output_type": "stream",
     "text": [
      "INFO:root:warm start with n_iter=2 - no initialization\n",
      "INFO:root:iteration=1/2\n",
      "INFO:root:variable=BridgeVariable(id=0,size=1000) v=0.562\n",
      "INFO:root:variable=BridgeVariable(id=1,size=2000) v=0.359\n",
      "INFO:root:n_iter=3\n",
      "INFO:root:iteration=2/2\n",
      "INFO:root:variable=BridgeVariable(id=0,size=1000) v=0.562\n",
      "INFO:root:variable=BridgeVariable(id=1,size=2000) v=0.359\n",
      "INFO:root:n_iter=4\n"
     ]
    },
    {
     "name": "stdout",
     "output_type": "stream",
     "text": [
      "total iter = 4\n"
     ]
    }
   ],
   "source": [
    "# testing warm start\n",
    "ep.iterate(\n",
    "    max_iter=2, callback=LogProgress(every=1), warm_start=True\n",
    ")\n",
    "print(f\"total iter = {ep.n_iter}\")"
   ]
  },
  {
   "cell_type": "markdown",
   "metadata": {},
   "source": [
    "## testing callbacks"
   ]
  },
  {
   "cell_type": "code",
   "execution_count": 19,
   "metadata": {},
   "outputs": [
    {
     "name": "stdout",
     "output_type": "stream",
     "text": [
      "id=0 variable=BridgeVariable(id=0,size=1000) shape=(1000,)\n",
      "id=1 variable=BridgeVariable(id=1,size=2000) shape=(2000,)\n",
      "id=2 variable=FinalVariable(id=2,size=2000) shape=(2000,)\n"
     ]
    }
   ],
   "source": [
    "for data in sample:\n",
    "    print(f\"id={data['id']} variable={data['variable']} shape={data['X'].shape}\")"
   ]
  },
  {
   "cell_type": "code",
   "execution_count": 20,
   "metadata": {},
   "outputs": [
    {
     "data": {
      "text/plain": [
       "JoinCallback(\n",
       "\tcallbacks=[LogProgress(every=1), TrackErrors(metric=mse,every=1), EarlyStopping(tol=1e-11)]\n",
       ")"
      ]
     },
     "execution_count": 20,
     "metadata": {},
     "output_type": "execute_result"
    }
   ],
   "source": [
    "tracker = TrackErrors(true_values=sample[:2])\n",
    "callback = JoinCallback(\n",
    "    [LogProgress(every=1), tracker, EarlyStopping(tol=1e-11)]\n",
    ")\n",
    "callback"
   ]
  },
  {
   "cell_type": "code",
   "execution_count": 21,
   "metadata": {},
   "outputs": [
    {
     "name": "stderr",
     "output_type": "stream",
     "text": [
      "INFO:root:init message dag with ConstantInit(a=1,b=0)\n",
      "INFO:root:iteration=1/4\n",
      "INFO:root:variable=BridgeVariable(id=0,size=1000) v=0.562\n",
      "INFO:root:variable=BridgeVariable(id=1,size=2000) v=0.359\n",
      "INFO:root:n_iter=1\n",
      "INFO:root:iteration=2/4\n",
      "INFO:root:variable=BridgeVariable(id=0,size=1000) v=0.562\n",
      "INFO:root:variable=BridgeVariable(id=1,size=2000) v=0.359\n",
      "INFO:root:tolerances max=0.00e+00 min=0.00e+00\n",
      "INFO:root:all tolerances are below tol=1.00e-11\n",
      "INFO:root:n_iter=2\n",
      "INFO:root:terminated after n_iter=2 iterations\n"
     ]
    }
   ],
   "source": [
    "ep.iterate(\n",
    "    max_iter=4, callback=callback, warm_start=False\n",
    ")"
   ]
  },
  {
   "cell_type": "code",
   "execution_count": 22,
   "metadata": {},
   "outputs": [
    {
     "data": {
      "text/plain": [
       "[{'id': 0, 'mse': 0.54811329998660951}, {'id': 1, 'mse': 0.37996354262562004}]"
      ]
     },
     "execution_count": 22,
     "metadata": {},
     "output_type": "execute_result"
    }
   ],
   "source": [
    "tracker.errors[-1]"
   ]
  },
  {
   "cell_type": "markdown",
   "metadata": {},
   "source": [
    "# Long chain"
   ]
  },
  {
   "cell_type": "code",
   "execution_count": 23,
   "metadata": {},
   "outputs": [
    {
     "name": "stdout",
     "output_type": "stream",
     "text": [
      "generative_model = MultiLayer(\n",
      "  BinaryPrior(size=10,p_pos=0.5),\n",
      "  GaussianChannel(var=1),\n",
      "  LinearChannel(Nx=5,Nz=10),\n",
      "  AbsChannel(),\n",
      "  RotationChannel(N=5),\n",
      "  SngChannel(),\n",
      "  GaussianChannel(var=1),\n",
      "  SngChannel(),\n",
      "  observed=False\n",
      ")\n"
     ]
    },
    {
     "data": {
      "image/png": "[encoded data removed]",
      "text/plain": [
       "<matplotlib.figure.Figure at 0x10f23c6d8>"
      ]
     },
     "metadata": {},
     "output_type": "display_data"
    }
   ],
   "source": [
    "# generative model\n",
    "from scipy.stats import special_ortho_group\n",
    "N, M = 10, 5\n",
    "W = np.random.randn(M, N)\n",
    "R = special_ortho_group.rvs(M)\n",
    "\n",
    "generative_model = MultiLayerModel([\n",
    "    BinaryPrior(size=N), GaussianChannel(), LinearChannel(W), AbsChannel(),\n",
    "    RotationChannel(R), SngChannel(),  GaussianChannel(), SngChannel()\n",
    "])\n",
    "print(f\"generative_model = {generative_model}\")\n",
    "generative_model.daft()"
   ]
  },
  {
   "cell_type": "code",
   "execution_count": 24,
   "metadata": {},
   "outputs": [
    {
     "name": "stdout",
     "output_type": "stream",
     "text": [
      "x=[ 1 -1 -1 -1 -1  1  1 -1  1  1]\n",
      "z_1=[ 2.02154109 -1.4130061  -1.39867921 -1.04659831 -1.98381565 -0.06606376\n",
      "  0.64760153 -1.78261261 -1.08685084 -0.73001593]\n",
      "z_2=[-4.24083721  0.0349094   6.0070395  -2.30631689  1.73885652]\n",
      "z_3=[ 4.24083721  0.0349094   6.0070395   2.30631689  1.73885652]\n",
      "z_4=[ 4.17938413  2.79614503  0.28228136 -5.57249257  2.44849488]\n",
      "z_5=[ 1.  1.  1. -1.  1.]\n",
      "z_6=[ 0.10669201  1.51353804  0.94544878 -0.74785193  1.24339596]\n",
      "y=[ 1.  1.  1. -1.  1.]\n"
     ]
    }
   ],
   "source": [
    "# data\n",
    "sample = generative_model.sample()\n",
    "x, y = sample[0][\"X\"], sample[-1][\"X\"]\n",
    "print(f\"x={x}\")\n",
    "zs = [z[\"X\"] for z in sample[1:-1]]\n",
    "for i, z in enumerate(zs):\n",
    "    print(f\"z_{i+1}={z}\")\n",
    "print(f\"y={y}\")"
   ]
  },
  {
   "cell_type": "code",
   "execution_count": 25,
   "metadata": {},
   "outputs": [
    {
     "name": "stdout",
     "output_type": "stream",
     "text": [
      "model = MultiLayer(\n",
      "  BinaryPrior(size=10,p_pos=0.5),\n",
      "  GaussianChannel(var=1),\n",
      "  LinearChannel(Nx=5,Nz=10),\n",
      "  AbsChannel(),\n",
      "  RotationChannel(N=5),\n",
      "  SngChannel(),\n",
      "  GaussianChannel(var=1),\n",
      "  SngLikelihood(size=5),\n",
      "  observed=True\n",
      ")\n"
     ]
    },
    {
     "data": {
      "image/png": "[encoded data removed]",
      "text/plain": [
       "<matplotlib.figure.Figure at 0x10f3a0da0>"
      ]
     },
     "metadata": {},
     "output_type": "display_data"
    }
   ],
   "source": [
    "# inference model\n",
    "likelihood = SngLikelihood(y=y)\n",
    "model = MultiLayerModel(\n",
    "    generative_model.layers[:-1]+[likelihood]\n",
    ")\n",
    "print(f\"model = {model}\")\n",
    "model.daft()"
   ]
  },
  {
   "cell_type": "code",
   "execution_count": 26,
   "metadata": {},
   "outputs": [
    {
     "data": {
      "text/plain": [
       "[{'X': array([ 1, -1, -1, -1, -1,  1,  1, -1,  1,  1]),\n",
       "  'id': 0,\n",
       "  'variable': BridgeVariable(id=0,size=10)},\n",
       " {'X': array([ 2.02154109, -1.4130061 , -1.39867921, -1.04659831, -1.98381565,\n",
       "         -0.06606376,  0.64760153, -1.78261261, -1.08685084, -0.73001593]),\n",
       "  'id': 1,\n",
       "  'variable': BridgeVariable(id=1,size=10)}]"
      ]
     },
     "execution_count": 26,
     "metadata": {},
     "output_type": "execute_result"
    }
   ],
   "source": [
    "sample[:2]"
   ]
  },
  {
   "cell_type": "code",
   "execution_count": 27,
   "metadata": {},
   "outputs": [
    {
     "data": {
      "text/plain": [
       "JoinCallback(\n",
       "\tcallbacks=[LogProgress(every=5), TrackErrors(metric=mse,every=1), EarlyStopping(tol=1e-11)]\n",
       ")"
      ]
     },
     "execution_count": 27,
     "metadata": {},
     "output_type": "execute_result"
    }
   ],
   "source": [
    "ep = ExpectationPropagation(model)\n",
    "logger.setLevel(logging.INFO)\n",
    "tracker = TrackErrors(true_values=sample[:2])\n",
    "callback = JoinCallback(\n",
    "    [LogProgress(every=5), tracker, EarlyStopping(tol=1e-11)]\n",
    ")\n",
    "callback"
   ]
  },
  {
   "cell_type": "code",
   "execution_count": 28,
   "metadata": {},
   "outputs": [
    {
     "name": "stderr",
     "output_type": "stream",
     "text": [
      "INFO:root:init message dag with NoisyInit(a_mean=1,a_var=0.1,b_mean=0,b_var=0)\n",
      "WARNING:root:in AbsChannel.forward_posterior negative az=-0.010196579584491605\n",
      "WARNING:root:in AbsChannel.backward_posterior negative az=-0.010196579584491605\n",
      "INFO:root:iteration=1/20\n",
      "INFO:root:variable=BridgeVariable(id=0,size=10) v=-7.917\n",
      "INFO:root:variable=BridgeVariable(id=1,size=10) v=-8.051\n",
      "INFO:root:variable=BridgeVariable(id=2,size=5) v=9.781\n",
      "INFO:root:variable=BridgeVariable(id=3,size=5) v=0.445\n",
      "INFO:root:variable=BridgeVariable(id=4,size=5) v=0.445\n",
      "INFO:root:variable=BridgeVariable(id=5,size=5) v=0.817\n",
      "INFO:root:variable=BridgeVariable(id=6,size=5) v=1.251\n",
      "INFO:root:n_iter=1\n",
      "INFO:root:tolerances max=9.83e+01 min=3.21e-01\n",
      "INFO:root:n_iter=2\n",
      "INFO:root:tolerances max=3.29e+01 min=2.87e-04\n",
      "INFO:root:n_iter=3\n",
      "INFO:root:tolerances max=6.40e-01 min=1.84e-06\n",
      "INFO:root:n_iter=4\n",
      "INFO:root:tolerances max=9.62e-03 min=5.71e-08\n",
      "INFO:root:n_iter=5\n",
      "INFO:root:iteration=6/20\n",
      "INFO:root:variable=BridgeVariable(id=0,size=10) v=1.000\n",
      "INFO:root:variable=BridgeVariable(id=1,size=10) v=2.000\n",
      "INFO:root:variable=BridgeVariable(id=2,size=5) v=18.587\n",
      "INFO:root:variable=BridgeVariable(id=3,size=5) v=5.668\n",
      "INFO:root:variable=BridgeVariable(id=4,size=5) v=5.668\n",
      "INFO:root:variable=BridgeVariable(id=5,size=5) v=0.295\n",
      "INFO:root:variable=BridgeVariable(id=6,size=5) v=0.681\n",
      "INFO:root:tolerances max=7.19e-05 min=2.94e-10\n",
      "INFO:root:n_iter=6\n",
      "INFO:root:tolerances max=5.73e-07 min=6.89e-12\n",
      "INFO:root:n_iter=7\n",
      "INFO:root:tolerances max=3.14e-09 min=2.29e-14\n",
      "INFO:root:n_iter=8\n",
      "INFO:root:tolerances max=7.20e-12 min=2.72e-16\n",
      "INFO:root:all tolerances are below tol=1.00e-11\n",
      "INFO:root:n_iter=9\n",
      "INFO:root:terminated after n_iter=9 iterations\n"
     ]
    }
   ],
   "source": [
    "ep.iterate(\n",
    "    max_iter=20, callback=callback, initializer=NoisyInit(a_mean=1, a_var=0.1, b_var=0)\n",
    ")"
   ]
  },
  {
   "cell_type": "code",
   "execution_count": 29,
   "metadata": {},
   "outputs": [
    {
     "data": {
      "text/plain": [
       "[{'id': 0, 'mse': 1.0}, {'id': 1, 'mse': 1.8386038601844028}]"
      ]
     },
     "execution_count": 29,
     "metadata": {},
     "output_type": "execute_result"
    }
   ],
   "source": [
    "tracker.errors[-1]"
   ]
  },
  {
   "cell_type": "code",
   "execution_count": 30,
   "metadata": {},
   "outputs": [],
   "source": [
    "variables_data = ep.get_variables_data()"
   ]
  },
  {
   "cell_type": "code",
   "execution_count": 31,
   "metadata": {},
   "outputs": [
    {
     "data": {
      "text/plain": [
       "{'id': 0,\n",
       " 'n_iter': 0,\n",
       " 'r': array([ 0.,  0.,  0.,  0.,  0.,  0.,  0.,  0.,  0.,  0.]),\n",
       " 'tau': 1.0,\n",
       " 'type': 'variable',\n",
       " 'v': 0.99999999055260169,\n",
       " 'variable': BridgeVariable(id=0,size=10)}"
      ]
     },
     "execution_count": 31,
     "metadata": {},
     "output_type": "execute_result"
    }
   ],
   "source": [
    "variables_data[0]"
   ]
  },
  {
   "cell_type": "code",
   "execution_count": 32,
   "metadata": {},
   "outputs": [
    {
     "data": {
      "text/plain": [
       "{'X': array([ 1, -1, -1, -1, -1,  1,  1, -1,  1,  1]),\n",
       " 'id': 0,\n",
       " 'variable': BridgeVariable(id=0,size=10)}"
      ]
     },
     "execution_count": 32,
     "metadata": {},
     "output_type": "execute_result"
    }
   ],
   "source": [
    "sample[0]"
   ]
  }
 ],
 "metadata": {
  "hide_input": false,
  "kernelspec": {
   "display_name": "Python 3",
   "language": "python",
   "name": "python3"
  },
  "language_info": {
   "codemirror_mode": {
    "name": "ipython",
    "version": 3
   },
   "file_extension": ".py",
   "mimetype": "text/x-python",
   "name": "python",
   "nbconvert_exporter": "python",
   "pygments_lexer": "ipython3",
   "version": "3.6.4"
  },
  "toc": {
   "base_numbering": 1,
   "nav_menu": {},
   "number_sections": true,
   "sideBar": true,
   "skip_h1_title": false,
   "title_cell": "Table of Contents",
   "title_sidebar": "Contents",
   "toc_cell": false,
   "toc_position": {},
   "toc_section_display": true,
   "toc_window_display": false
  }
 },
 "nbformat": 4,
 "nbformat_minor": 2
}
