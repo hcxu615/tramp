{
 "cells": [
  {
   "cell_type": "markdown",
   "metadata": {},
   "source": [
    "# Test plot model DAGs"
   ]
  },
  {
   "cell_type": "code",
   "execution_count": 1,
   "metadata": {},
   "outputs": [],
   "source": [
    "%matplotlib inline\n",
    "import numpy as np\n",
    "import networkx as nx\n",
    "import logging\n",
    "logger = logging.getLogger()\n",
    "logger.setLevel(logging.INFO)\n",
    "from tramp.models.dag_model import Layout\n",
    "from tramp.models import FactorPGM\n",
    "from tramp.models import GeneralizedLinearModel, MultiLayerModel\n",
    "from tramp.priors import GaussianPrior, GaussBernouilliPrior, BinaryPrior\n",
    "from tramp.likelihoods import GaussianLikelihood, SngLikelihood, AbsLikelihood\n",
    "from tramp.channels import GaussianChannel, AbsChannel, SngChannel, LinearChannel, RotationChannel\n",
    "from tramp.channels import ConcatChannel, DuplicateChannel"
   ]
  },
  {
   "cell_type": "markdown",
   "metadata": {},
   "source": [
    "## DAG with DuplicateChannel"
   ]
  },
  {
   "cell_type": "code",
   "execution_count": 2,
   "metadata": {},
   "outputs": [],
   "source": [
    "from scipy.stats import special_ortho_group\n",
    "R5 = special_ortho_group.rvs(5)\n",
    "\n",
    "factor_dag = nx.DiGraph()\n",
    "\n",
    "a = GaussianPrior(size=2)\n",
    "b = LinearChannel(np.random.randn(3,2))\n",
    "c = DuplicateChannel()\n",
    "\n",
    "d1 = AbsChannel()\n",
    "e1 = GaussianLikelihood(y=np.zeros(3))\n",
    "\n",
    "d2 = SngChannel()\n",
    "\n",
    "factor_dag.add_node(a, size=2)\n",
    "factor_dag.add_edge(a, b)\n",
    "factor_dag.add_edge(b, c)\n",
    "\n",
    "factor_dag.add_edge(c, d1)\n",
    "factor_dag.add_edge(c, d2)\n",
    "\n",
    "factor_dag.add_edge(d1, e1)"
   ]
  },
  {
   "cell_type": "code",
   "execution_count": 3,
   "metadata": {},
   "outputs": [
    {
     "data": {
      "text/plain": [
       "DAGModel(n_factors=6, n_variables=6)"
      ]
     },
     "execution_count": 3,
     "metadata": {},
     "output_type": "execute_result"
    }
   ],
   "source": [
    "model = FactorPGM(factor_dag)\n",
    "model"
   ]
  },
  {
   "cell_type": "code",
   "execution_count": 4,
   "metadata": {},
   "outputs": [
    {
     "name": "stdout",
     "output_type": "stream",
     "text": [
      "X_0 size=2 X=[-1.34756813 -1.2013003 ]\n",
      "X_1 size=3 X=[ 1.48644376  0.69696225  2.75165624]\n",
      "X_2 size=3 X=[ 1.48644376  0.69696225  2.75165624]\n",
      "X_4 size=3 X=[ 1.48644376  0.69696225  2.75165624]\n",
      "X_3 size=3 X=[ 1.48644376  0.69696225  2.75165624]\n",
      "X_5 size=3 X=[ 1.  1.  1.]\n"
     ]
    }
   ],
   "source": [
    "for d in model.sample():\n",
    "    print(f\"X_{d['variable'].id} size={d['variable'].size} X={d['X']}\")"
   ]
  },
  {
   "cell_type": "code",
   "execution_count": 5,
   "metadata": {},
   "outputs": [
    {
     "data": {
      "image/png": "[encoded data removed]",
      "text/plain": [
       "<matplotlib.figure.Figure at 0x105584a90>"
      ]
     },
     "metadata": {},
     "output_type": "display_data"
    }
   ],
   "source": [
    "model.daft()"
   ]
  },
  {
   "cell_type": "markdown",
   "metadata": {},
   "source": [
    "## DAG with ConcatChannel and DuplicateChannel"
   ]
  },
  {
   "cell_type": "code",
   "execution_count": 6,
   "metadata": {},
   "outputs": [],
   "source": [
    "factor_dag = nx.DiGraph()\n",
    "\n",
    "a1 = GaussianPrior(size=2)\n",
    "b1 = LinearChannel(np.random.randn(3,2))\n",
    "\n",
    "a2 = BinaryPrior(size=5)\n",
    "b2 = RotationChannel(R5)\n",
    "c2 = GaussianChannel()\n",
    "\n",
    "d = ConcatChannel(N1=3, N2=5)\n",
    "e = AbsChannel()\n",
    "f = GaussianChannel()\n",
    "\n",
    "g = DuplicateChannel()\n",
    "\n",
    "h1 = GaussianLikelihood(y=np.zeros(8))\n",
    "h2 = SngLikelihood(y=np.zeros(8))\n",
    "\n",
    "factor_dag.add_node(a1, size=2)\n",
    "factor_dag.add_edge(a1, b1)\n",
    "\n",
    "factor_dag.add_node(a2, size=5)\n",
    "factor_dag.add_edge(a2, b2)\n",
    "factor_dag.add_edge(b2, c2)\n",
    "\n",
    "factor_dag.add_edge(b1, d)\n",
    "factor_dag.add_edge(c2, d)\n",
    "\n",
    "factor_dag.add_edge(d, e)\n",
    "factor_dag.add_edge(e, f)\n",
    "factor_dag.add_edge(f, g)\n",
    "\n",
    "factor_dag.add_edge(g, h1)\n",
    "factor_dag.add_edge(g, h2)"
   ]
  },
  {
   "cell_type": "code",
   "execution_count": 7,
   "metadata": {},
   "outputs": [
    {
     "data": {
      "text/plain": [
       "DAGModel(n_factors=11, n_variables=10)"
      ]
     },
     "execution_count": 7,
     "metadata": {},
     "output_type": "execute_result"
    }
   ],
   "source": [
    "model = FactorPGM(factor_dag)\n",
    "model"
   ]
  },
  {
   "cell_type": "code",
   "execution_count": 8,
   "metadata": {},
   "outputs": [
    {
     "name": "stdout",
     "output_type": "stream",
     "text": [
      "X_0 size=5 X=[-1  1 -1 -1 -1]\n",
      "X_1 size=5 X=[  6.27279753e-01   1.52432619e+00   9.73151530e-02  -1.50780581e+00\n",
      "   1.07710127e-03]\n",
      "X_2 size=5 X=[-0.26514824  0.61743673 -0.72141328  0.01301504  0.48266581]\n",
      "X_3 size=2 X=[-0.19311242  1.30310341]\n",
      "X_4 size=3 X=[ 0.57809027  0.10642195 -2.11287451]\n",
      "X_5 size=8 X=[ 0.57809027  0.10642195 -2.11287451 -0.26514824  0.61743673 -0.72141328\n",
      "  0.01301504  0.48266581]\n",
      "X_6 size=8 X=[ 0.57809027  0.10642195  2.11287451  0.26514824  0.61743673  0.72141328\n",
      "  0.01301504  0.48266581]\n",
      "X_7 size=8 X=[ 1.44532985 -0.61463748  2.98542445 -0.25959518  0.70867547  1.23332342\n",
      "  0.23634816  1.52991684]\n",
      "X_8 size=8 X=[ 1.44532985 -0.61463748  2.98542445 -0.25959518  0.70867547  1.23332342\n",
      "  0.23634816  1.52991684]\n",
      "X_9 size=8 X=[ 1.44532985 -0.61463748  2.98542445 -0.25959518  0.70867547  1.23332342\n",
      "  0.23634816  1.52991684]\n"
     ]
    }
   ],
   "source": [
    "for d in model.sample():\n",
    "    print(f\"X_{d['variable'].id} size={d['variable'].size} X={d['X']}\")"
   ]
  },
  {
   "cell_type": "code",
   "execution_count": 9,
   "metadata": {},
   "outputs": [
    {
     "data": {
      "image/png": "[encoded data removed]",
      "text/plain": [
       "<matplotlib.figure.Figure at 0x111250ac8>"
      ]
     },
     "metadata": {},
     "output_type": "display_data"
    }
   ],
   "source": [
    "model.daft()"
   ]
  }
 ],
 "metadata": {
  "hide_input": false,
  "kernelspec": {
   "display_name": "Python 3",
   "language": "python",
   "name": "python3"
  },
  "language_info": {
   "codemirror_mode": {
    "name": "ipython",
    "version": 3
   },
   "file_extension": ".py",
   "mimetype": "text/x-python",
   "name": "python",
   "nbconvert_exporter": "python",
   "pygments_lexer": "ipython3",
   "version": "3.6.4"
  },
  "toc": {
   "base_numbering": 1,
   "nav_menu": {},
   "number_sections": true,
   "sideBar": true,
   "skip_h1_title": false,
   "title_cell": "Table of Contents",
   "title_sidebar": "Contents",
   "toc_cell": false,
   "toc_position": {},
   "toc_section_display": true,
   "toc_window_display": false
  }
 },
 "nbformat": 4,
 "nbformat_minor": 2
}
