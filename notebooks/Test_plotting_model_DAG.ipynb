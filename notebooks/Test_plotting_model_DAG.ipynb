{
 "cells": [
  {
   "cell_type": "markdown",
   "metadata": {},
   "source": [
    "# Test plot model DAGs"
   ]
  },
  {
   "cell_type": "code",
   "execution_count": 1,
   "metadata": {},
   "outputs": [],
   "source": [
    "%matplotlib inline\n",
    "import numpy as np\n",
    "import networkx as nx\n",
    "import logging\n",
    "logger = logging.getLogger()\n",
    "logger.setLevel(logging.INFO)\n",
    "from tramp.models.dag_model import Layout\n",
    "from tramp.models import FactorModel\n",
    "from tramp.models import GeneralizedLinearModel, MultiLayerModel\n",
    "from tramp.priors import GaussianPrior, GaussBernouilliPrior, BinaryPrior\n",
    "from tramp.likelihoods import GaussianLikelihood, SngLikelihood, AbsLikelihood\n",
    "from tramp.channels import GaussianChannel, AbsChannel, SngChannel, LinearChannel, RotationChannel\n",
    "from tramp.channels import ConcatChannel, DuplicateChannel"
   ]
  },
  {
   "cell_type": "markdown",
   "metadata": {},
   "source": [
    "## DAG with DuplicateChannel"
   ]
  },
  {
   "cell_type": "code",
   "execution_count": 2,
   "metadata": {},
   "outputs": [
    {
     "data": {
      "image/png": "[encoded data removed]",
      "text/plain": [
       "<matplotlib.figure.Figure at 0x1147f8518>"
      ]
     },
     "metadata": {},
     "output_type": "display_data"
    }
   ],
   "source": [
    "from scipy.stats import special_ortho_group\n",
    "R5 = special_ortho_group.rvs(5)\n",
    "\n",
    "a = GaussianPrior(size=2)\n",
    "b = LinearChannel(np.random.randn(3,2))\n",
    "c = DuplicateChannel()\n",
    "\n",
    "d1 = AbsChannel()\n",
    "e1 = GaussianLikelihood(y=np.zeros(3))\n",
    "\n",
    "d2 = SngChannel()\n",
    "\n",
    "factor_dag = a @ b @ c @ (d1 @ e1 + d2)\n",
    "factor_dag.daft()"
   ]
  },
  {
   "cell_type": "code",
   "execution_count": 3,
   "metadata": {},
   "outputs": [
    {
     "data": {
      "text/plain": [
       "DAGModel(n_factors=6, n_variables=6)"
      ]
     },
     "execution_count": 3,
     "metadata": {},
     "output_type": "execute_result"
    }
   ],
   "source": [
    "model = FactorModel(factor_dag)\n",
    "model"
   ]
  },
  {
   "cell_type": "code",
   "execution_count": 4,
   "metadata": {},
   "outputs": [
    {
     "name": "stdout",
     "output_type": "stream",
     "text": [
      "X_0 size=2 X=[-0.05049099  0.96575419]\n",
      "X_1 size=3 X=[-0.81453308  2.05574574  1.09342119]\n",
      "X_2 size=3 X=[-0.81453308  2.05574574  1.09342119]\n",
      "X_4 size=3 X=[-1.  1.  1.]\n",
      "X_3 size=3 X=[-0.81453308  2.05574574  1.09342119]\n",
      "X_5 size=3 X=[ 0.81453308  2.05574574  1.09342119]\n"
     ]
    }
   ],
   "source": [
    "for d in model.sample():\n",
    "    print(f\"X_{d['variable'].id} size={d['variable'].size} X={d['X']}\")"
   ]
  },
  {
   "cell_type": "code",
   "execution_count": 5,
   "metadata": {},
   "outputs": [
    {
     "data": {
      "image/png": "[encoded data removed]",
      "text/plain": [
       "<matplotlib.figure.Figure at 0x1a21171eb8>"
      ]
     },
     "metadata": {},
     "output_type": "display_data"
    }
   ],
   "source": [
    "model.daft()"
   ]
  },
  {
   "cell_type": "markdown",
   "metadata": {},
   "source": [
    "## DAG with ConcatChannel and DuplicateChannel"
   ]
  },
  {
   "cell_type": "code",
   "execution_count": 6,
   "metadata": {},
   "outputs": [
    {
     "data": {
      "image/png": "[encoded data removed]",
      "text/plain": [
       "<matplotlib.figure.Figure at 0x1a212aad68>"
      ]
     },
     "metadata": {},
     "output_type": "display_data"
    }
   ],
   "source": [
    "a1 = GaussianPrior(size=2)\n",
    "b1 = LinearChannel(np.random.randn(3,2))\n",
    "\n",
    "a2 = BinaryPrior(size=5)\n",
    "b2 = RotationChannel(R5)\n",
    "c2 = GaussianChannel()\n",
    "\n",
    "d = ConcatChannel(N1=3, N2=5)\n",
    "e = AbsChannel()\n",
    "f = GaussianChannel()\n",
    "\n",
    "g = DuplicateChannel()\n",
    "\n",
    "h1 = GaussianLikelihood(y=np.zeros(8))\n",
    "h2 = SngLikelihood(y=np.zeros(8))\n",
    "\n",
    "factor_dag = (a1 @ b1 + a2 @ b2 @ c2) @ d @ e @ f @ g @ (h1 + h2)\n",
    "factor_dag.daft()"
   ]
  },
  {
   "cell_type": "code",
   "execution_count": 7,
   "metadata": {},
   "outputs": [
    {
     "data": {
      "text/plain": [
       "DAGModel(n_factors=11, n_variables=10)"
      ]
     },
     "execution_count": 7,
     "metadata": {},
     "output_type": "execute_result"
    }
   ],
   "source": [
    "model = FactorModel(factor_dag)\n",
    "model"
   ]
  },
  {
   "cell_type": "code",
   "execution_count": 8,
   "metadata": {},
   "outputs": [
    {
     "name": "stdout",
     "output_type": "stream",
     "text": [
      "X_0 size=5 X=[-1  1  1  1  1]\n",
      "X_1 size=5 X=[ 1.59453834 -1.42846067 -0.17032333 -0.32745835 -0.52981938]\n",
      "X_2 size=5 X=[ 1.55154371 -0.67837117 -0.0975087   0.15093242 -0.75559709]\n",
      "X_3 size=2 X=[ 0.68812468  0.56679984]\n",
      "X_4 size=3 X=[ 0.9718124   0.29590435  0.5875257 ]\n",
      "X_5 size=8 X=[ 0.9718124   0.29590435  0.5875257   1.55154371 -0.67837117 -0.0975087\n",
      "  0.15093242 -0.75559709]\n",
      "X_6 size=8 X=[ 0.9718124   0.29590435  0.5875257   1.55154371  0.67837117  0.0975087\n",
      "  0.15093242  0.75559709]\n",
      "X_7 size=8 X=[-0.64844498  0.95469545  0.0082545   0.14037128  1.82274672  2.78155916\n",
      " -1.17873899  0.25643039]\n",
      "X_8 size=8 X=[-0.64844498  0.95469545  0.0082545   0.14037128  1.82274672  2.78155916\n",
      " -1.17873899  0.25643039]\n",
      "X_9 size=8 X=[-0.64844498  0.95469545  0.0082545   0.14037128  1.82274672  2.78155916\n",
      " -1.17873899  0.25643039]\n"
     ]
    }
   ],
   "source": [
    "for d in model.sample():\n",
    "    print(f\"X_{d['variable'].id} size={d['variable'].size} X={d['X']}\")"
   ]
  },
  {
   "cell_type": "code",
   "execution_count": 9,
   "metadata": {},
   "outputs": [
    {
     "data": {
      "image/png": "[encoded data removed]",
      "text/plain": [
       "<matplotlib.figure.Figure at 0x1a2125e668>"
      ]
     },
     "metadata": {},
     "output_type": "display_data"
    }
   ],
   "source": [
    "model.daft()"
   ]
  },
  {
   "cell_type": "code",
   "execution_count": null,
   "metadata": {},
   "outputs": [],
   "source": []
  }
 ],
 "metadata": {
  "hide_input": false,
  "kernelspec": {
   "display_name": "Python 3",
   "language": "python",
   "name": "python3"
  },
  "language_info": {
   "codemirror_mode": {
    "name": "ipython",
    "version": 3
   },
   "file_extension": ".py",
   "mimetype": "text/x-python",
   "name": "python",
   "nbconvert_exporter": "python",
   "pygments_lexer": "ipython3",
   "version": "3.6.4"
  },
  "toc": {
   "base_numbering": 1,
   "nav_menu": {},
   "number_sections": true,
   "sideBar": true,
   "skip_h1_title": false,
   "title_cell": "Table of Contents",
   "title_sidebar": "Contents",
   "toc_cell": false,
   "toc_position": {},
   "toc_section_display": true,
   "toc_window_display": false
  }
 },
 "nbformat": 4,
 "nbformat_minor": 2
}
