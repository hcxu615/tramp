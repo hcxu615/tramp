{
  "cells": [
    {
      "cell_type": "code",
      "execution_count": null,
      "metadata": {
        "collapsed": false
      },
      "outputs": [],
      "source": [
        "%matplotlib inline"
      ]
    },
    {
      "cell_type": "markdown",
      "metadata": {},
      "source": [
        "\nSparse gradient\n===============\n\n\n"
      ]
    },
    {
      "cell_type": "code",
      "execution_count": null,
      "metadata": {
        "collapsed": false
      },
      "outputs": [],
      "source": [
        "from tramp.algos import EarlyStoppingEP\nfrom tramp.variables import SISOVariable as V, SILeafVariable as O, MILeafVariable, SIMOVariable\nfrom tramp.channels import DFTChannel, GaussianChannel\nfrom tramp.priors import GaussBernouilliPrior, GaussianPrior\nfrom tramp.experiments import TeacherStudentScenario\nimport numpy as np\nimport pandas as pd\nimport matplotlib.pyplot as plt\nfrom matplotlib import rc, cm\nrc('text', usetex=True)\nrc('font', family='serif')\n#"
      ]
    },
    {
      "cell_type": "markdown",
      "metadata": {},
      "source": [
        "Define a Sparse FFT teacher\n\n"
      ]
    },
    {
      "cell_type": "code",
      "execution_count": null,
      "metadata": {
        "collapsed": false
      },
      "outputs": [],
      "source": [
        "class SparseFFT_Teacher():\n    def __init__(self, size, noise_var):\n        self.t = np.linspace(-2*np.pi, 2*np.pi, size, endpoint=False)\n        self.channel = GaussianChannel(var=noise_var)\n\n    def sample(self, seed=None, verbose=False):\n        if seed:\n            np.random.seed(seed)\n        x = np.cos(self.t) + np.sin(2*self.t)\n        z = DFTChannel(real=True).sample(x)\n        nonzero = (np.abs(z) > 1e-11)\n        y = self.channel.sample(x)\n        if verbose:\n            print(\n                f\"SparseFFT_Teacher: var(x) = {x.var(): .3f} \"\n                f\"rho(z)={nonzero.mean(): .3f} var(z)={z[nonzero].var(): .3f}\"\n            )\n        return {\"x\": x, \"z\": z, \"y\": y}"
      ]
    },
    {
      "cell_type": "markdown",
      "metadata": {},
      "source": [
        "Define a sparse FFT student\n\n"
      ]
    },
    {
      "cell_type": "code",
      "execution_count": null,
      "metadata": {
        "collapsed": false
      },
      "outputs": [],
      "source": [
        "def build_sparse_fft_student(size, prior_var, fft_rho, fft_var, noise_var):\n    x_shape = (size,)\n    fft_shape = (2,) + x_shape\n    student = (\n        GaussianPrior(size=size, var=prior_var) @\n        SIMOVariable(id=\"x\", n_next=2) @ (\n            GaussianChannel(var=noise_var) @ O(\"y\") + (\n                DFTChannel(real=True) +\n                GaussBernouilliPrior(size=fft_shape, var=fft_var, rho=fft_rho)\n            ) @\n            MILeafVariable(id=\"z\", n_prev=2)\n        )\n    ).to_model()\n    return student"
      ]
    },
    {
      "cell_type": "markdown",
      "metadata": {},
      "source": [
        "Plotting function\n\n"
      ]
    },
    {
      "cell_type": "code",
      "execution_count": null,
      "metadata": {
        "collapsed": false
      },
      "outputs": [],
      "source": [
        "def plot_sparse_fft(dic, save_fig=False, block=False):\n    _, axes = plt.subplots(1, 3, figsize=(16, 6))\n    cmap = cm.get_cmap('plasma_r')\n    tab_col = plt.rcParams['axes.prop_cycle'].by_key()['color']\n    tab_l1, tab_l2,  tab_l3 = [], [], []\n\n    l, = axes[0].plot(dic['y'], 'o', color=tab_col[2], label=r'$y$')\n    tab_l1.append(l)\n\n    l, = axes[1].plot(dic['x'][\"x\"],\n                      color=tab_col[0], label=r'$x^*$')\n    tab_l2.append(l)\n    l, = axes[1].plot(dic['x_pred'][\"x\"],\n                      color=tab_col[1], label=r'$\\hat{x}$')\n    tab_l2.append(l)\n\n    l, = axes[2].plot(dic['x'][\"z\"][0].ravel(),\n                      color=tab_col[0], label=r\"$\\textrm{Re}(z^*)$\")\n    tab_l3.append(l)\n    l, = axes[2].plot(dic['x_pred'][\"z\"][0].ravel(),\n                      color=tab_col[1], label=r\"$\\textrm{Re}(\\hat{z})$\")\n    tab_l3.append(l)\n    l, = axes[2].plot(dic['x'][\"z\"][1].ravel(), '--',\n                      color=tab_col[0], label=r\"$\\textrm{Im}(z^*)$\")\n    tab_l3.append(l)\n    l, = axes[2].plot(dic['x_pred'][\"z\"][1].ravel(), '--',\n                      color=tab_col[1], label=r\"$\\textrm{Im}(\\hat{z})$\")\n    tab_l3.append(l)\n\n    \"\"\" Titles  \"\"\"\n    axes[0].set_title(r'$y$')\n    axes[1].set_title(r'$x$')\n    axes[2].set_title(r'$z = \\textrm{DFT}(x)$')\n\n    \"\"\" Ticks   \"\"\"\n    axes[0].set_xlim([0, dic['N']])\n    axes[1].set_xlim([0, dic['N']])\n    axes[2].set_xlim([0, dic['N']/4])\n\n    axes[1].legend(tab_l2, [l.get_label() for l in tab_l2], loc='lower center', fancybox=True,\n                   shadow=False, ncol=1)\n    axes[0].legend(tab_l1, [l.get_label() for l in tab_l1], loc='lower center', fancybox=True,\n                   shadow=False, ncol=1)\n    axes[2].legend(tab_l3, [l.get_label() for l in tab_l3], loc='lower center', fancybox=True,\n                   shadow=False, ncol=1)\n\n    \"\"\" Save   \"\"\"\n    if save_fig:\n        dir_fig = 'Figures/'\n        os.makedirs(dir_fig) if not os.path.exists(dir_fig) else 0\n        file_name = f'{dir_fig}{dic[\"model\"]}_N={dic[\"N\"]}_rho={str(dic[\"rho\"]).replace(\".\",\"\")}_seed={dic[\"seed\"]}.pdf'\n\n        plt.tight_layout()\n        plt.savefig(file_name, format='pdf', dpi=1000,\n                    bbox_inches=\"tight\", pad_inches=0.1)\n\n    \"\"\" Show   \"\"\"\n    plt.show()"
      ]
    },
    {
      "cell_type": "markdown",
      "metadata": {},
      "source": [
        "Parameters\n\n"
      ]
    },
    {
      "cell_type": "code",
      "execution_count": null,
      "metadata": {
        "collapsed": false
      },
      "outputs": [],
      "source": [
        "# Size #\nN = 100\n# Sparsity #\nrho = 0.02\n# Seed #\nseed = 1"
      ]
    },
    {
      "cell_type": "markdown",
      "metadata": {},
      "source": [
        "Build the teacher\n\n"
      ]
    },
    {
      "cell_type": "code",
      "execution_count": null,
      "metadata": {
        "collapsed": false
      },
      "outputs": [],
      "source": [
        "teacher = SparseFFT_Teacher(size=N, noise_var=0.1)\n\n# Build the student\nstudent = build_sparse_fft_student(\n    size=N,  prior_var=1, fft_rho=rho, fft_var=18, noise_var=0.1)\n\n# Create a Teacher Student Scenario\n# Variables to track #\nx_ids = [\"x\", \"z\"]\nscenario = TeacherStudentScenario(teacher, student, x_ids=x_ids)\nscenario.setup(seed=seed)"
      ]
    },
    {
      "cell_type": "markdown",
      "metadata": {},
      "source": [
        "Run EP\n\n"
      ]
    },
    {
      "cell_type": "code",
      "execution_count": null,
      "metadata": {
        "collapsed": false
      },
      "outputs": [],
      "source": [
        "# Max iter #\nmax_iter = 1000\n# Damping value #\ndamping = 0.1\n\nscenario.run_ep(max_iter=max_iter,\n                damping=damping,\n                callback=EarlyStoppingEP(tol=1e-2)\n                )\ndic = {'model': 'sparse_fft', 'N': N, 'rho': rho, 'seed': seed,\n       'y': scenario.observations[\"y\"], 'x': scenario.x_true, 'x_pred': scenario.x_pred}"
      ]
    },
    {
      "cell_type": "markdown",
      "metadata": {},
      "source": [
        "Plot\n\n"
      ]
    },
    {
      "cell_type": "code",
      "execution_count": null,
      "metadata": {
        "collapsed": false
      },
      "outputs": [],
      "source": [
        "plot_sparse_fft(dic, save_fig=False)"
      ]
    }
  ],
  "metadata": {
    "kernelspec": {
      "display_name": "Python 3",
      "language": "python",
      "name": "python3"
    },
    "language_info": {
      "codemirror_mode": {
        "name": "ipython",
        "version": 3
      },
      "file_extension": ".py",
      "mimetype": "text/x-python",
      "name": "python",
      "nbconvert_exporter": "python",
      "pygments_lexer": "ipython3",
      "version": "3.6.10"
    }
  },
  "nbformat": 4,
  "nbformat_minor": 0
}